{
 "cells": [
  {
   "cell_type": "code",
   "execution_count": 1,
   "metadata": {},
   "outputs": [],
   "source": [
    "import pandas as pd\n",
    "train = pd.read_csv(\"train.csv\")"
   ]
  },
  {
   "cell_type": "code",
   "execution_count": 2,
   "metadata": {},
   "outputs": [
    {
     "data": {
      "text/html": [
       "<div>\n",
       "<style scoped>\n",
       "    .dataframe tbody tr th:only-of-type {\n",
       "        vertical-align: middle;\n",
       "    }\n",
       "\n",
       "    .dataframe tbody tr th {\n",
       "        vertical-align: top;\n",
       "    }\n",
       "\n",
       "    .dataframe thead th {\n",
       "        text-align: right;\n",
       "    }\n",
       "</style>\n",
       "<table border=\"1\" class=\"dataframe\">\n",
       "  <thead>\n",
       "    <tr style=\"text-align: right;\">\n",
       "      <th></th>\n",
       "      <th>id</th>\n",
       "      <th>url</th>\n",
       "      <th>landmark_id</th>\n",
       "    </tr>\n",
       "  </thead>\n",
       "  <tbody>\n",
       "    <tr>\n",
       "      <th>0</th>\n",
       "      <td>97c0a12e07ae8dd5</td>\n",
       "      <td>http://lh4.ggpht.com/-f8xYA5l4apw/RSziSQVaABI/...</td>\n",
       "      <td>6347</td>\n",
       "    </tr>\n",
       "    <tr>\n",
       "      <th>1</th>\n",
       "      <td>650c989dd3493748</td>\n",
       "      <td>https://lh5.googleusercontent.com/-PUnMrX7oOyA...</td>\n",
       "      <td>12519</td>\n",
       "    </tr>\n",
       "    <tr>\n",
       "      <th>2</th>\n",
       "      <td>05e63ca9b2cde1f4</td>\n",
       "      <td>http://mw2.google.com/mw-panoramio/photos/medi...</td>\n",
       "      <td>264</td>\n",
       "    </tr>\n",
       "    <tr>\n",
       "      <th>3</th>\n",
       "      <td>08672eddcb2b7c93</td>\n",
       "      <td>http://lh3.ggpht.com/-9fgSxDYwhHA/SMvGEoltKTI/...</td>\n",
       "      <td>13287</td>\n",
       "    </tr>\n",
       "    <tr>\n",
       "      <th>4</th>\n",
       "      <td>fc49cb32ef7f1e89</td>\n",
       "      <td>http://lh6.ggpht.com/-UGAXxvPbr98/S-jGZbyMIPI/...</td>\n",
       "      <td>4018</td>\n",
       "    </tr>\n",
       "  </tbody>\n",
       "</table>\n",
       "</div>"
      ],
      "text/plain": [
       "                 id                                                url  \\\n",
       "0  97c0a12e07ae8dd5  http://lh4.ggpht.com/-f8xYA5l4apw/RSziSQVaABI/...   \n",
       "1  650c989dd3493748  https://lh5.googleusercontent.com/-PUnMrX7oOyA...   \n",
       "2  05e63ca9b2cde1f4  http://mw2.google.com/mw-panoramio/photos/medi...   \n",
       "3  08672eddcb2b7c93  http://lh3.ggpht.com/-9fgSxDYwhHA/SMvGEoltKTI/...   \n",
       "4  fc49cb32ef7f1e89  http://lh6.ggpht.com/-UGAXxvPbr98/S-jGZbyMIPI/...   \n",
       "\n",
       "  landmark_id  \n",
       "0        6347  \n",
       "1       12519  \n",
       "2         264  \n",
       "3       13287  \n",
       "4        4018  "
      ]
     },
     "execution_count": 2,
     "metadata": {},
     "output_type": "execute_result"
    }
   ],
   "source": [
    "train.head()"
   ]
  },
  {
   "cell_type": "code",
   "execution_count": 3,
   "metadata": {},
   "outputs": [
    {
     "name": "stdout",
     "output_type": "stream",
     "text": [
      "Training data size (1225029, 3)\n"
     ]
    }
   ],
   "source": [
    "print(\"Training data size\",train.shape)"
   ]
  },
  {
   "cell_type": "code",
   "execution_count": 4,
   "metadata": {},
   "outputs": [
    {
     "data": {
      "text/plain": [
       "9633     49866\n",
       "6051     49660\n",
       "6599     23157\n",
       "9779     18245\n",
       "None     13283\n",
       "2061     13141\n",
       "5554     10993\n",
       "6651      9418\n",
       "5376      9141\n",
       "6696      9116\n",
       "2743      8923\n",
       "4352      8903\n",
       "13526     8589\n",
       "1553      7728\n",
       "10900     6939\n",
       "8063      6586\n",
       "8429      6372\n",
       "4987      5307\n",
       "12220     5267\n",
       "11784     5210\n",
       "Name: landmark_id, dtype: int64"
      ]
     },
     "execution_count": 4,
     "metadata": {},
     "output_type": "execute_result"
    }
   ],
   "source": [
    "train['landmark_id'].value_counts()[:20]"
   ]
  },
  {
   "cell_type": "code",
   "execution_count": 5,
   "metadata": {},
   "outputs": [
    {
     "name": "stdout",
     "output_type": "stream",
     "text": [
      "total landmarks: 14952\n"
     ]
    }
   ],
   "source": [
    "print(\"total landmarks:\",len(set(train['landmark_id'])))"
   ]
  },
  {
   "cell_type": "code",
   "execution_count": 6,
   "metadata": {},
   "outputs": [
    {
     "name": "stdout",
     "output_type": "stream",
     "text": [
      "unique landmark: 169\n"
     ]
    }
   ],
   "source": [
    "# only one image to train\n",
    "print(\"unique landmark:\",sum(train['landmark_id'].value_counts()==1))"
   ]
  },
  {
   "cell_type": "code",
   "execution_count": 7,
   "metadata": {},
   "outputs": [
    {
     "data": {
      "text/plain": [
       "<matplotlib.axes._subplots.AxesSubplot at 0x1d154f3aa90>"
      ]
     },
     "execution_count": 7,
     "metadata": {},
     "output_type": "execute_result"
    }
   ],
   "source": [
    "# we can see that most landmarks do NOT have too much images\n",
    "train['landmark_id'].value_counts().hist()"
   ]
  },
  {
   "cell_type": "code",
   "execution_count": 8,
   "metadata": {},
   "outputs": [
    {
     "data": {
      "text/plain": [
       "<matplotlib.axes._subplots.AxesSubplot at 0x1d155434f98>"
      ]
     },
     "execution_count": 8,
     "metadata": {},
     "output_type": "execute_result"
    },
    {
     "data": {
      "image/png": "[encoded data removed]",
      "text/plain": [
       "<Figure size 432x288 with 1 Axes>"
      ]
     },
     "metadata": {},
     "output_type": "display_data"
    }
   ],
   "source": [
    "train['landmark_id'].value_counts()[:30].plot(kind='bar')"
   ]
  },
  {
   "cell_type": "code",
   "execution_count": 13,
   "metadata": {},
   "outputs": [],
   "source": [
    "from IPython.display import Image\n",
    "from IPython.core.display import HTML \n",
    "\n",
    "def display_category(urls, category_name):\n",
    "    img_style = \"width: 180px; margin: 0px; float: left; border: 1px solid black;\"\n",
    "    images_list = ''.join([f\"<img style='{img_style}' src='{u}' />\" for _, u in urls.head(12).iteritems()])\n",
    "\n",
    "    display(HTML(images_list))"
   ]
  },
  {
   "cell_type": "code",
   "execution_count": 20,
   "metadata": {},
   "outputs": [
    {
     "data": {
      "text/html": [
       "<img style='width: 180px; margin: 0px; float: left; border: 1px solid black;' src='http://lh6.ggpht.com/-MbCfKSsUTLg/RjyNT-6K2OI/AAAAAAAAArk/bCJ_ohFb67M/s1600/' /><img style='width: 180px; margin: 0px; float: left; border: 1px solid black;' src='http://lh3.ggpht.com/-IU1Valypm3w/SOaQ-Y_rZ2I/AAAAAAAAAKM/1yhFFFEtOns/s1600/' /><img style='width: 180px; margin: 0px; float: left; border: 1px solid black;' src='https://lh6.googleusercontent.com/-v4yKkJvMfEs/TtjusdcsKmI/AAAAAAAAPfo/z3jKfLsmEoA/s1600/' /><img style='width: 180px; margin: 0px; float: left; border: 1px solid black;' src='http://lh6.ggpht.com/-IvKcAX9IeQ8/Sb5f9Ur6FaI/AAAAAAAAE4w/pazI3srCO9w/rj/' /><img style='width: 180px; margin: 0px; float: left; border: 1px solid black;' src='http://lh6.ggpht.com/-r1LjRS9oOvM/S5AP9aYUj7I/AAAAAAAACW4/9-zRL-rwY40/s1600/' /><img style='width: 180px; margin: 0px; float: left; border: 1px solid black;' src='https://lh6.googleusercontent.com/-KmY65KLxSlk/TcUSPEMs44I/AAAAAAAAAwY/pjYvePK5Zlk/s1600/' /><img style='width: 180px; margin: 0px; float: left; border: 1px solid black;' src='https://lh6.googleusercontent.com/-2M8kBxuyWMU/SLbLfW-y3vI/AAAAAAAAE7Q/fsdcJLPXsiY/rj/' /><img style='width: 180px; margin: 0px; float: left; border: 1px solid black;' src='https://lh6.googleusercontent.com/-iHhBb06T1Xw/STKyuVBqzSI/AAAAAAAACUM/e-gUHXJ5z-s/s1600/' /><img style='width: 180px; margin: 0px; float: left; border: 1px solid black;' src='http://lh4.ggpht.com/-8zxgTTvir48/SIWLnI-ur7I/AAAAAAAAA14/8PG0r3N8GB4/s1600/' /><img style='width: 180px; margin: 0px; float: left; border: 1px solid black;' src='http://mw2.google.com/mw-panoramio/photos/medium/56053014.jpg' /><img style='width: 180px; margin: 0px; float: left; border: 1px solid black;' src='http://lh4.ggpht.com/-_2VVLpIdk9k/R-ViFVJxfkI/AAAAAAAAAdA/28plvknbd-w/s1600/' /><img style='width: 180px; margin: 0px; float: left; border: 1px solid black;' src='https://lh3.googleusercontent.com/-Q9iV6euoqNY/SeTtb683FUI/AAAAAAAADwU/zV1eZYFE4_0/s1600/' />"
      ],
      "text/plain": [
       "<IPython.core.display.HTML object>"
      ]
     },
     "metadata": {},
     "output_type": "display_data"
    }
   ],
   "source": [
    "# change the landmark id can get images of different landmarks\n",
    "display_category(train[train['landmark_id'] == '6051']['url'], \"\")"
   ]
  }
 ],
 "metadata": {
  "kernelspec": {
   "display_name": "Python 3",
   "language": "python",
   "name": "python3"
  },
  "language_info": {
   "codemirror_mode": {
    "name": "ipython",
    "version": 3
   },
   "file_extension": ".py",
   "mimetype": "text/x-python",
   "name": "python",
   "nbconvert_exporter": "python",
   "pygments_lexer": "ipython3",
   "version": "3.6.5"
  }
 },
 "nbformat": 4,
 "nbformat_minor": 2
}
